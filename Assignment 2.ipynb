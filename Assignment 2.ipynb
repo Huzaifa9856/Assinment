{
 "cells": [
  {
   "cell_type": "code",
   "execution_count": null,
   "metadata": {},
   "outputs": [],
   "source": [
    "# Below statements define the second assignment.\n",
    "# a. Input max marks for Physics, Chemistry, Math, English, Urdu e.g. 100.\n",
    "# b. Input obtained marks for above mentioned subjects e.g. 89\n",
    "# c. Calculate total for max and obtained marks e.g. 500 and 482, respectively.\n",
    "# d. Print a mark sheet e.g. as below\n",
    "# Subject Max Marks Obtained marks\n",
    "# Physics 100 95\n",
    "# Chemistry 100 92\n",
    "# Math 100 96\n",
    "# *\n",
    "# *\n",
    "# * Total. 500 482\n",
    "# Obtained percentage: 96.4"
   ]
  },
  {
   "cell_type": "code",
   "execution_count": null,
   "metadata": {},
   "outputs": [],
   "source": [
    "name = input('Enter Your Full Name :                                    ')\n",
    "roll_number = input('Enter Your Registration Number :                   ')\n",
    "max_math = input('Enter Maximum Marks of                   Math :       ')\n",
    "obt_math = input('Enter Obtained Marks :                                ')\n",
    "max_english = input('Enter Maximum Marks of                English :    ')\n",
    "obt_english = input('Enter Obtained Marks :                             ')\n",
    "max_urdu = input('Enter Maximum Marks of                   Urdu :       ')\n",
    "obt_urdu = input('Enter Obtained Marks :                                ')\n",
    "max_physics = input('Enter Maximum Marks of                 Physics :   ')\n",
    "obt_physics = input('Enter Obtained Marks :                             ')\n",
    "max_chemistry = input('Enter Maximum Marks of               Chemistry : ')\n",
    "obt_chemistry = input('Enter Obtained Marks :                           ')\n",
    "max_biology = input('Enter Maximum Marks of                   Biology : ')\n",
    "obt_biology = input('Enter Obtained Marks :                             ')\n",
    "max_islamiat = input('Enter Maximum Marks of                 Islamiat : ')\n",
    "obt_islamiat = input('Enter Obtained Marks :                            ')\n",
    "max_PakStudies = input('Enter Maximum Marks of       Pakistan Studies : ')\n",
    "obt_PakStudies = input('Enter Obtained Marks :                          ')\n",
    "\n",
    "max_marks = int(max_math) + int(max_english) + int(max_urdu) + int(max_physics) + int(max_biology) + int(max_chemistry)+ int(max_islamiat) + int(max_PakStudies)\n",
    "obtained_marks = int(obt_math) + int(obt_english) + int(obt_urdu) + int(obt_physics) + int(obt_biology) + int(obt_chemistry)+ int(obt_islamiat ) + int(obt_PakStudies)\n",
    "obtained_percentage = (obtained_marks / max_marks) * 100\n",
    "\n",
    "print('-----------------------------------------------------------------------------------')\n",
    "print('*********************************** MARKS SHEET ***********************************')\n",
    "print('-----------------------------------------------------------------------------------')\n",
    "print('******************************* RESULT OF FINAL EXAM ******************************')\n",
    "print('-----------------------------------------------------------------------------------')\n",
    "print('**** FULL NAME     : ' + name + '                                                  ')\n",
    "print('**** ROLL NUMBER   : ' + roll_number + '                                           ')\n",
    "print('-----------------------------------------------------------------------------------')\n",
    "print('**** S.# **** SUBJECTS ********************* TOTAL MARKS ****** OBTAINED MARKS ****')\n",
    "print('-----------------------------------------------------------------------------------')\n",
    "print('     '+ '01.        '+'MATHEMATICS'+'                     '+max_math +'                 '+ obt_math)\n",
    "print('     '+ '02.        '+'ENGLISH'+'                         '+max_english +'              '+ obt_english)\n",
    "print('     '+ '03.        '+'URDU'+'                            '+max_urdu +'                 '+ obt_urdu)\n",
    "print('     '+ '04.        '+'PHYSICS'+'                         '+max_physics +'              '+ obt_physics)\n",
    "print('     '+ '05.        '+'CHEMISTRY'+'                       '+max_chemistry +'            '+ obt_chemistry)\n",
    "print('     '+ '06.        '+'BIOLOGY'+'                         '+max_biology +'              '+ obt_biology)\n",
    "print('     '+ '07.        '+'Islamiat'+'                        '+max_islamiat +'             '+ obt_islamiat )\n",
    "print('     '+ '08.        '+'Pakistan Studies'+'                '+max_PakStudies +'           '+ obt_PakStudies )\n",
    "print('-----------------------------------------------------------------------------------')\n",
    "print('                    '+'TOTALS'+'                          '+str(max_marks) +'          '+ str(obtained_marks))\n",
    "print('-----------------------------------------------------------------------------------')\n",
    "print('                    '+'OBTAINED PERCENTAGE'+'             '+str(obtained_percentage))\n",
    "print('-----------------------------------------------------------------------------------')"
   ]
  },
  {
   "cell_type": "code",
   "execution_count": null,
   "metadata": {},
   "outputs": [],
   "source": []
  }
 ],
 "metadata": {
  "kernelspec": {
   "display_name": "Python 3",
   "language": "python",
   "name": "python3"
  },
  "language_info": {
   "codemirror_mode": {
    "name": "ipython",
    "version": 3
   },
   "file_extension": ".py",
   "mimetype": "text/x-python",
   "name": "python",
   "nbconvert_exporter": "python",
   "pygments_lexer": "ipython3",
   "version": "3.7.4"
  }
 },
 "nbformat": 4,
 "nbformat_minor": 2
}
