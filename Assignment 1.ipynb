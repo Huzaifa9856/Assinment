{
 "cells": [
  {
   "cell_type": "code",
   "execution_count": null,
   "metadata": {},
   "outputs": [],
   "source": [
    "# Take number as input from the user and tell it is an EVEN or ODD number"
   ]
  },
  {
   "cell_type": "code",
   "execution_count": 5,
   "metadata": {},
   "outputs": [
    {
     "name": "stdout",
     "output_type": "stream",
     "text": [
      "Enter any number here, we shall let you know it is an EVEN or ODD number : 600\n",
      "The number you enter is an EVEN Number.\n"
     ]
    }
   ],
   "source": [
    "\n",
    "\n",
    "check = input('Enter any number here, we shall let you know it is an EVEN or ODD number : ')\n",
    "result = (int(check) % 2)\n",
    "if result == 0:\n",
    "    print('The number you enter is an EVEN Number.')\n",
    "else:\n",
    "    print('The number you enter is an ODD Number.')"
   ]
  },
  {
   "cell_type": "code",
   "execution_count": null,
   "metadata": {},
   "outputs": [],
   "source": []
  }
 ],
 "metadata": {
  "kernelspec": {
   "display_name": "Python 3",
   "language": "python",
   "name": "python3"
  },
  "language_info": {
   "codemirror_mode": {
    "name": "ipython",
    "version": 3
   },
   "file_extension": ".py",
   "mimetype": "text/x-python",
   "name": "python",
   "nbconvert_exporter": "python",
   "pygments_lexer": "ipython3",
   "version": "3.7.4"
  }
 },
 "nbformat": 4,
 "nbformat_minor": 2
}
